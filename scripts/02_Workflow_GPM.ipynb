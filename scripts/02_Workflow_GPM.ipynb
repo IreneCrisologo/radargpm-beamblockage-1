{
 "cells": [
  {
   "cell_type": "markdown",
   "metadata": {},
   "source": [
    "# Workflow GPM"
   ]
  },
  {
   "cell_type": "markdown",
   "metadata": {},
   "source": [
    "Import libraries to be used in the workflow"
   ]
  },
  {
   "cell_type": "code",
   "execution_count": 1,
   "metadata": {
    "collapsed": false
   },
   "outputs": [],
   "source": [
    "# plotting libraries\n",
    "import matplotlib.pyplot as pl\n",
    "import matplotlib as mpl\n",
    "from matplotlib.collections import PatchCollection\n",
    "from matplotlib.colors import from_levels_and_colors\n",
    "from matplotlib.path import Path\n",
    "import matplotlib.patches as patches\n",
    "import matplotlib.cm as cm\n",
    "\n",
    "# allows inline plotting in the notebook\n",
    "try:\n",
    "    get_ipython().magic(\"matplotlib inline\")\n",
    "except:\n",
    "    pl.ion()\n",
    "\n",
    "import os\n",
    "import numpy as np\n",
    "import datetime as dt\n",
    "from osgeo import osr\n",
    "\n",
    "import pandas as pd\n",
    "import wradlib as wrl\n",
    "\n",
    "# Import from external libraries\n",
    "import io_func_PH\n",
    "#from util_func_PH import *\n",
    "#from external import *\n",
    "\n",
    "#from pathlib import Path\n",
    "\n",
    "# disable warnings\n",
    "import warnings\n",
    "warnings.filterwarnings('ignore')"
   ]
  },
  {
   "cell_type": "markdown",
   "metadata": {},
   "source": [
    "# Setting up workflow"
   ]
  },
  {
   "cell_type": "markdown",
   "metadata": {},
   "source": [
    "## Setting up parameters"
   ]
  },
  {
   "cell_type": "code",
   "execution_count": 2,
   "metadata": {
    "collapsed": false
   },
   "outputs": [],
   "source": [
    "# Space-born precipitation radar parameters\n",
    "sr_pars = {\"trmm\": {\n",
    "    \"zt\": 402500.,  # orbital height of TRMM (post boost)   APPROXIMATION!\n",
    "    \"dr\": 250.,     # gate spacing of TRMM\n",
    "}, \"gpm\": {\n",
    "    \"zt\": 407000.,  # orbital height of GPM                 APPROXIMATION!\n",
    "    \"dr\": 125.,      # gate spacing of GPM\n",
    "}}"
   ]
  },
  {
   "cell_type": "code",
   "execution_count": 3,
   "metadata": {
    "collapsed": false
   },
   "outputs": [],
   "source": [
    "# Set parameters for this procedure\n",
    "\n",
    "platf = \"gpm\"                # SR platform/product: one out of [\"gpm\", \"trmm\"]\n",
    "ee = 0                        # elevation index\n",
    "YEAR = '2015'\n",
    "sweepnum = ['02','03','04','05'][ee]\n",
    "radarname = 'SUB'\n",
    "\n",
    "bw_sr = 0.71                  # SR beam width\n",
    "zt = sr_pars[platf][\"zt\"]     # SR orbit height (meters)\n",
    "dr_sr = sr_pars[platf][\"dr\"]  # SR gate length (meters)"
   ]
  },
  {
   "cell_type": "markdown",
   "metadata": {},
   "source": [
    "## Define and read data"
   ]
  },
  {
   "cell_type": "markdown",
   "metadata": {},
   "source": [
    "### Define GPM Data set"
   ]
  },
  {
   "cell_type": "code",
   "execution_count": 12,
   "metadata": {
    "collapsed": true
   },
   "outputs": [],
   "source": [
    "gpm_file = '../data/gpm/2A-PH-SUBTAG.GPM.Ku.V7-20170308.20151001-S185850-E185953.009041.V05A.HDF5'"
   ]
  },
  {
   "cell_type": "markdown",
   "metadata": {},
   "source": [
    "### Define radar data set"
   ]
  },
  {
   "cell_type": "code",
   "execution_count": 13,
   "metadata": {
    "collapsed": false
   },
   "outputs": [],
   "source": [
    "gr2gpm_file = [os.path.join('../data/radar',f) for f in os.listdir('../data/radar') if '2015' in f]"
   ]
  },
  {
   "cell_type": "markdown",
   "metadata": {},
   "source": [
    "### Read SR and GR data"
   ]
  },
  {
   "cell_type": "code",
   "execution_count": 14,
   "metadata": {
    "collapsed": false
   },
   "outputs": [],
   "source": [
    "sr_data, gr_data = io_func_PH.read_data_sr_gr(platf, ee, gpm_file, gr2gpm_file)"
   ]
  },
  {
   "cell_type": "markdown",
   "metadata": {},
   "source": [
    "### Read beam blockage quality map"
   ]
  },
  {
   "cell_type": "code",
   "execution_count": 15,
   "metadata": {
    "collapsed": false
   },
   "outputs": [],
   "source": [
    "qual_BBF, a_BBF = wrl.io.from_hdf5('../data/bbf/SUB_qual_'+sweepnum+'-ZH_150km_r250m_BBF.hdf5')"
   ]
  },
  {
   "cell_type": "code",
   "execution_count": 83,
   "metadata": {
    "collapsed": false
   },
   "outputs": [],
   "source": [
    "if qual_BBF.shape != gr_data['refl'][ee].shape:\n",
    "    qual_BBF = qual_BBF[:,:gr_data['refl'][ee].shape[1]]\n",
    "else:\n",
    "    pass "
   ]
  },
  {
   "cell_type": "code",
   "execution_count": 84,
   "metadata": {
    "collapsed": false
   },
   "outputs": [
    {
     "data": {
      "text/plain": [
       "(360, 480)"
      ]
     },
     "execution_count": 84,
     "metadata": {},
     "output_type": "execute_result"
    }
   ],
   "source": [
    "qual_BBF.shape"
   ]
  },
  {
   "cell_type": "markdown",
   "metadata": {
    "collapsed": true
   },
   "source": [
    "# Data Handling"
   ]
  },
  {
   "cell_type": "markdown",
   "metadata": {},
   "source": [
    "## Extract relevant GR data and meta-data\n"
   ]
  },
  {
   "cell_type": "code",
   "execution_count": 85,
   "metadata": {
    "collapsed": false
   },
   "outputs": [],
   "source": [
    "# number of rays in gr sweep\n",
    "try:\n",
    "    nray_gr = gr_data['nbeam'].astype(\"i4\")[ee]\n",
    "except IndexError:\n",
    "    raise RadarFileError\n",
    "# number of gates in gr beam\n",
    "ngate_gr = gr_data['ngate'].astype(\"i4\")[ee]\n",
    "# number of sweeps\n",
    "nelev = gr_data['ntilt']\n",
    "# elevation of sweep (degree)\n",
    "elev_gr = gr_data['elang'][ee]\n",
    "# gate length (meters)\n",
    "dr_gr = gr_data['dr'][ee]\n",
    "# reflectivity array of sweep\n",
    "ref_gr = gr_data['refl'][ee]\n",
    "# sweep datetime stamp\n",
    "date_gr = gr_data['sdate'][ee]\n",
    "# range of first gate\n",
    "r0_gr = gr_data['r0'][ee]                    \n",
    "# azimuth angle of first beam\n",
    "a0_gr = gr_data['a0'][ee]\n",
    "# Longitude of GR\n",
    "lon0_gr = gr_data['lon']\n",
    "# Latitude of GR\n",
    "lat0_gr = gr_data['lat']\n",
    "# Altitude of GR (meters)\n",
    "alt0_gr = gr_data['alt']\n",
    "# Beam width of GR (degree)\n",
    "bw_gr = 1."
   ]
  },
  {
   "cell_type": "markdown",
   "metadata": {},
   "source": [
    "## Calculate GR Bounding Box"
   ]
  },
  {
   "cell_type": "code",
   "execution_count": 86,
   "metadata": {
    "collapsed": true
   },
   "outputs": [],
   "source": [
    "coord = wrl.georef.sweep_centroids(nray_gr, dr_gr, ngate_gr, elev_gr)\n",
    "coords = wrl.georef.spherical_to_proj(coord[..., 0], \n",
    "                                      np.degrees(coord[..., 1]),\n",
    "                                      coord[..., 2], \n",
    "                                      (lon0_gr, lat0_gr, alt0_gr))\n",
    "lon = coords[..., 0]\n",
    "lat = coords[..., 1]\n",
    "alt = coords[..., 2]\n",
    "bbox = wrl.zonalstats.get_bbox(lon, lat)"
   ]
  },
  {
   "cell_type": "markdown",
   "metadata": {},
   "source": [
    "## Extract relevant SR data and meta-data    "
   ]
  },
  {
   "cell_type": "code",
   "execution_count": 87,
   "metadata": {
    "collapsed": true
   },
   "outputs": [],
   "source": [
    "# Longitudes of SR scans\n",
    "sr_lon = sr_data['lon']\n",
    "# Latitudes of SR scans\n",
    "sr_lat = sr_data['lat']\n",
    "# Precip flag\n",
    "pflag = sr_data['pflag']\n",
    "# Number of scans on SR data\n",
    "nscan_sr= sr_data['nscan']\n",
    "# Number of rays in one SR scan\n",
    "nray_sr = sr_data['nray']\n",
    "# Number of gates in one SR ray\n",
    "ngate_sr = sr_data['nbin']"
   ]
  },
  {
   "cell_type": "code",
   "execution_count": 88,
   "metadata": {
    "collapsed": false
   },
   "outputs": [],
   "source": [
    "# Sample ID (from filename)\n",
    "sampleid = gpm_file[::-1][10:16][::-1]"
   ]
  },
  {
   "cell_type": "markdown",
   "metadata": {},
   "source": [
    "## Georeferencing"
   ]
  },
  {
   "cell_type": "markdown",
   "metadata": {},
   "source": [
    "### Set fundamental georeferencing parameters"
   ]
  },
  {
   "cell_type": "code",
   "execution_count": 89,
   "metadata": {
    "collapsed": true
   },
   "outputs": [],
   "source": [
    "# Calculate equivalent earth radius\n",
    "wgs84 = wrl.georef.get_default_projection()\n",
    "re1 = wrl.georef.get_earth_radius(lat0_gr, wgs84) \n",
    "a = wgs84.GetSemiMajor()\n",
    "b = wgs84.GetSemiMinor()\n",
    "\n",
    "# Set up aeqd-projection gr-centered\n",
    "rad = wrl.georef.proj4_to_osr(('+proj=aeqd +lon_0={lon:f} ' + \n",
    "                                   '+lat_0={lat:f} +a={a:f} ' +\n",
    "                                   '+b={b:f}').format(lon=lon0_gr,\n",
    "                                                      lat=lat0_gr,\n",
    "                                                      a=a, b=b))\n",
    "re2 = wrl.georef.get_earth_radius(lat0_gr, rad)"
   ]
  },
  {
   "cell_type": "markdown",
   "metadata": {},
   "source": [
    "### Georeference GR data"
   ]
  },
  {
   "cell_type": "code",
   "execution_count": 90,
   "metadata": {
    "collapsed": true
   },
   "outputs": [],
   "source": [
    "# create gr range and azimuth arrays\n",
    "rmax_gr = r0_gr + ngate_gr * dr_gr\n",
    "r_gr = np.arange(0, ngate_gr) * dr_gr + dr_gr/2.\n",
    "az_gr = np.arange(0, nray_gr) - a0_gr\n",
    "\n",
    "# create gr polar grid and calculate aeqd-xyz coordinates\n",
    "gr_polargrid = np.meshgrid(r_gr, az_gr)\n",
    "gr_xyz, rad = wrl.georef.spherical_to_xyz(gr_polargrid[0], gr_polargrid[1], elev_gr, (lon0_gr, lat0_gr, alt0_gr ))\n",
    "\n",
    "# create gr poygon array in aeqd-xyz-coordinates\n",
    "gr_poly, rad1 = wrl.georef.spherical_to_polyvert(r_gr, az_gr, elev_gr, (lon0_gr, lat0_gr, alt0_gr))\n",
    "gr_poly.shape = (nray_gr, ngate_gr, 5, 3)\n",
    "\n",
    "# get radar domain (outer ring)\n",
    "gr_domain = gr_xyz[:,-1,0:2]\n",
    "gr_domain = np.vstack((gr_domain, gr_domain[0]))"
   ]
  },
  {
   "cell_type": "markdown",
   "metadata": {},
   "source": [
    "### Georeference SR data"
   ]
  },
  {
   "cell_type": "code",
   "execution_count": 91,
   "metadata": {
    "collapsed": true
   },
   "outputs": [],
   "source": [
    "sr_x, sr_y = wrl.georef.reproject(sr_lon, sr_lat, \n",
    "                                      projection_source=wgs84, \n",
    "                                      projection_target=rad)\n",
    "sr_xy = np.dstack((sr_x, sr_y))"
   ]
  },
  {
   "cell_type": "markdown",
   "metadata": {},
   "source": [
    "### Subset relevant SR data"
   ]
  },
  {
   "cell_type": "code",
   "execution_count": 92,
   "metadata": {
    "collapsed": true
   },
   "outputs": [],
   "source": [
    "# Create ZonalData for spatial subsetting (inside GR range domain)\n",
    "precip_mask = (pflag == 2) & wrl.zonalstats.get_clip_mask(sr_xy, gr_domain, rad)"
   ]
  },
  {
   "cell_type": "code",
   "execution_count": 93,
   "metadata": {
    "collapsed": false
   },
   "outputs": [
    {
     "data": {
      "text/plain": [
       "<matplotlib.image.AxesImage at 0x486c7200f0>"
      ]
     },
     "execution_count": 93,
     "metadata": {},
     "output_type": "execute_result"
    },
    {
     "data": {
      "image/png": "[encoded data removed]",
      "text/plain": [
       "<matplotlib.figure.Figure at 0x484e41cbe0>"
      ]
     },
     "metadata": {},
     "output_type": "display_data"
    }
   ],
   "source": [
    "pl.imshow(precip_mask)"
   ]
  },
  {
   "cell_type": "markdown",
   "metadata": {},
   "source": [
    "### SR Parallax Correction"
   ]
  },
  {
   "cell_type": "code",
   "execution_count": 94,
   "metadata": {
    "collapsed": true
   },
   "outputs": [],
   "source": [
    "# use localZenith Angle\n",
    "alpha = sr_data['zenith']\n",
    "beta = abs(-17.04 + np.arange(nray_sr) * bw_sr)\n",
    "\n",
    "# Correct for parallax, get 3D-XYZ-Array\n",
    "#   xyzp_sr: Parallax corrected xyz coordinates\n",
    "#   r_sr_inv: range array from ground to SR platform\n",
    "#   zp: SR bin altitudes\n",
    "xyp_sr, r_sr_inv, z_sr = wrl.georef.correct_parallax(sr_xy, ngate_sr, dr_sr, alpha)\n",
    "xyzp_sr = np.concatenate((xyp_sr, z_sr[..., np.newaxis]),\n",
    "                   axis=-1)"
   ]
  },
  {
   "cell_type": "markdown",
   "metadata": {},
   "source": [
    "### Compute spherical coordinates of SR bins with regard to GR"
   ]
  },
  {
   "cell_type": "code",
   "execution_count": 95,
   "metadata": {
    "collapsed": true
   },
   "outputs": [],
   "source": [
    "r_sr, az_sr, elev_sr = wrl.georef.xyz_to_spherical(xyzp_sr, alt0_gr, proj=rad)    \n",
    "mask = (elev_sr > (1.0 - bw_gr/2.)) & (elev_sr < (1.0 + bw_gr/2.))"
   ]
  },
  {
   "cell_type": "code",
   "execution_count": 96,
   "metadata": {
    "collapsed": false,
    "scrolled": true
   },
   "outputs": [
    {
     "data": {
      "text/plain": [
       "<matplotlib.collections.QuadMesh at 0x486c770630>"
      ]
     },
     "execution_count": 96,
     "metadata": {},
     "output_type": "execute_result"
    },
    {
     "data": {
      "image/png": "[encoded data removed]",
      "text/plain": [
       "<matplotlib.figure.Figure at 0x484e41c6a0>"
      ]
     },
     "metadata": {},
     "output_type": "display_data"
    }
   ],
   "source": [
    "pl.figure()\n",
    "pl.pcolormesh(mask[40,:,:].T)"
   ]
  },
  {
   "cell_type": "markdown",
   "metadata": {},
   "source": [
    "### Compute SR and GR pulse volumes"
   ]
  },
  {
   "cell_type": "markdown",
   "metadata": {},
   "source": [
    "#### Calculate distance from orbit $r_s$"
   ]
  },
  {
   "cell_type": "code",
   "execution_count": 97,
   "metadata": {
    "collapsed": true
   },
   "outputs": [],
   "source": [
    "rs = wrl.georef.dist_from_orbit(zt, alpha, beta, r_sr_inv, re1)"
   ]
  },
  {
   "cell_type": "markdown",
   "metadata": {},
   "source": [
    "#### SR pulse volume"
   ]
  },
  {
   "cell_type": "code",
   "execution_count": 98,
   "metadata": {
    "collapsed": true
   },
   "outputs": [],
   "source": [
    "# Small anngle approximation\n",
    "vol_sr2  = np.pi * dr_sr * rs**2 * np.radians(bw_sr / 2.)**2\n",
    "# Or using wradlib's native function\n",
    "vol_sr = wrl.qual.pulse_volume(rs, dr_sr, bw_sr)"
   ]
  },
  {
   "cell_type": "markdown",
   "metadata": {},
   "source": [
    "#### GR pulse volume"
   ]
  },
  {
   "cell_type": "code",
   "execution_count": 99,
   "metadata": {
    "collapsed": true
   },
   "outputs": [],
   "source": [
    "# GR pulse volumes\n",
    "#   along one beam\n",
    "vol_gr = wrl.qual.pulse_volume(r_gr, dr_gr, bw_gr)\n",
    "#   with shape (nray_gr, ngate_gr)\n",
    "vol_gr = np.repeat(vol_gr, nray_gr).reshape((nray_gr, ngate_gr), order=\"F\")"
   ]
  },
  {
   "cell_type": "markdown",
   "metadata": {},
   "source": [
    "#### Calculate horizontal and vertical dimensions $R_s$ and $D_s$ of SR bins"
   ]
  },
  {
   "cell_type": "code",
   "execution_count": 100,
   "metadata": {
    "collapsed": true
   },
   "outputs": [],
   "source": [
    "Rs = 0.5 * (1 +  np.cos(np.radians(alpha)))[:,:,np.newaxis] * rs * np.tan(np.radians(bw_sr/2.))\n",
    "Ds = dr_sr / np.cos(np.radians(alpha))\n",
    "Ds = np.broadcast_to(Ds[..., np.newaxis], Rs.shape)"
   ]
  },
  {
   "cell_type": "markdown",
   "metadata": {},
   "source": [
    "### Median Brightband Width/Height"
   ]
  },
  {
   "cell_type": "code",
   "execution_count": 101,
   "metadata": {
    "collapsed": true
   },
   "outputs": [],
   "source": [
    "ratio, ibb = wrl.qual.get_bb_ratio(sr_data['zbb'], sr_data['bbwidth'], sr_data['quality'], z_sr)\n",
    "zbb = sr_data['zbb'].copy()\n",
    "zbb[~ibb] = np.nan"
   ]
  },
  {
   "cell_type": "markdown",
   "metadata": {},
   "source": [
    "### Convert SR Ku reflectivities to S-band "
   ]
  },
  {
   "cell_type": "markdown",
   "metadata": {},
   "source": [
    "(Based on [Cao et.al (2013)](http://dx.doi.org/10.1002/jgrd.50138))"
   ]
  },
  {
   "cell_type": "code",
   "execution_count": 102,
   "metadata": {
    "collapsed": true
   },
   "outputs": [],
   "source": [
    "ref_sr = sr_data['refl'].filled(np.nan)      # uncorrected\n",
    "ref_sr_ss = np.zeros_like(ref_sr) * np.nan   # corrected (snow)\n",
    "ref_sr_sh = np.zeros_like(ref_sr) * np.nan   # corrected (hail)\n",
    "\n",
    "a_s, a_h = (wrl.trafo.ku2s.snow, wrl.trafo.ku2s.hail) \n",
    "\n",
    "ia = (ratio >= 1)\n",
    "ref_sr_ss[ia] = ref_sr[ia] + wrl.util.calculate_polynomial(ref_sr[ia], a_s[:,10])\n",
    "ref_sr_sh[ia] = ref_sr[ia] + wrl.util.calculate_polynomial(ref_sr[ia], a_h[:,10])\n",
    "ib = (ratio <= 0)\n",
    "ref_sr_ss[ib] = ref_sr[ib] + wrl.util.calculate_polynomial(ref_sr[ib], a_s[:,0])\n",
    "ref_sr_sh[ib] = ref_sr[ib] + wrl.util.calculate_polynomial(ref_sr[ib], a_h[:,0])\n",
    "im = (ratio > 0) & (ratio < 1)\n",
    "ind = np.round(ratio[im] * 10).astype(np.int)\n",
    "ref_sr_ss[im] = ref_sr[im] + wrl.util.calculate_polynomial(ref_sr[im], a_s[:,ind])\n",
    "ref_sr_sh[im] = ref_sr[im] + wrl.util.calculate_polynomial(ref_sr[im], a_h[:,ind])\n",
    "\n",
    "# Jackson Tan's fix for C-band\n",
    "is_cband = False\n",
    "if (is_cband):\n",
    "    deltas = (ref_sr_ss - ref_sr) * 5.3 / 10.0\n",
    "    ref_sr_ss = outref_sr + deltas\n",
    "    deltah = (ref_sr_sh - ref_sr) * 5.3 / 10.0\n",
    "    ref_sr_sh = ref_sr + deltah\n",
    "\n",
    "ref_sr_ss[ref_sr < 0] = np.nan"
   ]
  },
  {
   "cell_type": "markdown",
   "metadata": {},
   "source": [
    "### Convert S-band GR reflectivities to Ku-band"
   ]
  },
  {
   "cell_type": "markdown",
   "metadata": {},
   "source": [
    "Using the method of [Liao and Meneghini (2009)](http://dx.doi.org/10.1175/2008JAMC1974.1))"
   ]
  },
  {
   "cell_type": "code",
   "execution_count": 103,
   "metadata": {
    "collapsed": true
   },
   "outputs": [],
   "source": [
    "# Convert S-band GR reflectivities to Ku-band using method of Liao and Meneghini (2009)\n",
    "ref_gr_ku = np.zeros_like(ref_gr) * np.nan\n",
    "\n",
    "# Snow\n",
    "ia = ( gr_xyz[...,2] >= np.nanmean(zbb) )\n",
    "#ref_gr_ku[ia] = wrl.trafo.ku2s.snow[0] + wrl.trafo.ku2s.snow[1]*ref_gr[ia] + wrl.trafo.ku2s.snow[2]*ref_gr[ia]**2\n",
    "ref_gr_ku[ia] = wrl.util.calculate_polynomial(ref_gr[ia], wrl.trafo.s2ku.snow)\n",
    "# Rain\n",
    "ib = ( gr_xyz[...,2] < np.nanmean(zbb) )\n",
    "#ref_gr_ku[ib] = wrl.trafo.ku2s.rain[0] + wrl.trafo.ku2s.rain[1]*ref_gr[ia] + wrl.trafo.ku2s.rain[2]*ref_gr[ia]**2\n",
    "ref_gr_ku[ib] = wrl.util.calculate_polynomial(ref_gr[ib], wrl.trafo.s2ku.rain)\n",
    "\n",
    "# Jackson Tan's fix for C-band\n",
    "is_cband = False\n",
    "if (is_cband):\n",
    "    delta = (ref_gr_ku - ref_gr) * 5.3/10.0\n",
    "    ref_gr_ku = ref_gr + delta"
   ]
  },
  {
   "cell_type": "markdown",
   "metadata": {},
   "source": [
    "## Matching SR/GR\n",
    "### Identify which SR rays actually intersect with the GR sweep\n",
    "Based on the above criteria (in radar range, precipitating SR profile) and based on SR elevation angle (with regard to GR)."
   ]
  },
  {
   "cell_type": "code",
   "execution_count": 104,
   "metadata": {
    "collapsed": true
   },
   "outputs": [],
   "source": [
    "# First assumption: no valid SR bins (all False)\n",
    "valid = np.asarray(elev_sr, dtype=np.bool)==False\n",
    "# SR is inside GR range and is precipitating\n",
    "iscan = precip_mask.nonzero()[0]\n",
    "iray = precip_mask.nonzero()[1]\n",
    "valid[iscan,iray] = True\n",
    "# SR bins intersect with GR sweep\n",
    "valid = valid & (elev_sr >= (elev_gr-bw_gr/2.)) & (elev_sr <= (elev_gr+bw_gr/2.))\n",
    "above_18 = valid & (ref_sr >= 18)\n",
    "# Number of matching SR bins per profile\n",
    "nvalids = np.sum(valid, axis=2)\n",
    "# scan and ray indices for profiles with at least one valid bin\n",
    "vscan, vray = np.where(nvalids>0)\n",
    "# number of profiles with at least one valid bin\n",
    "nprof = len(vscan)"
   ]
  },
  {
   "cell_type": "markdown",
   "metadata": {},
   "source": [
    "#### Averaging SR parameters"
   ]
  },
  {
   "cell_type": "code",
   "execution_count": 105,
   "metadata": {
    "collapsed": true
   },
   "outputs": [],
   "source": [
    "# average coordinates\n",
    "xyz_v1 = xyzp_sr.copy()\n",
    "xyz_v1[~valid] = np.nan\n",
    "xyz_c1 = xyzp_sr.copy()\n",
    "xyz_c1[~valid] = 0\n",
    "c = np.count_nonzero(xyz_c1[..., 0], axis=2)\n",
    "ntotsr = c[vscan, vray]\n",
    "xyz_m1 = np.nanmean(xyz_v1,axis=2)\n",
    "xyz = xyz_m1[vscan, vray]\n",
    "\n",
    "# get number of SR bins above 18 dBZ\n",
    "xyz_c2 = xyzp_sr.copy()\n",
    "xyz_c2[~above_18] = 0\n",
    "c2 = np.count_nonzero(xyz_c2[..., 0], axis=2)\n",
    "ngoodsr = c2[vscan, vray]\n",
    "\n",
    "# approximate Rs \n",
    "rs_v1 = Rs.copy()\n",
    "rs_v1[~valid] = np.nan\n",
    "rs_m1 = np.nanmax(rs_v1, axis=2)\n",
    "rs_prof = rs_m1[vscan, vray]\n",
    "ds = rs_prof\n",
    "\n",
    "# approximate Ds\n",
    "ds_v1 = Ds.copy()\n",
    "ds_v1[~valid] = np.nan\n",
    "ds_m1 = np.nansum(ds_v1, axis=2)\n",
    "ds_prof = ds_m1[vscan, vray]\n",
    "dz = ds_prof\n",
    "\n",
    "# approximate Vs\n",
    "vs_v1 = vol_sr.copy()\n",
    "vs_v1[~valid] = np.nan\n",
    "vs_m1 = np.nansum(vs_v1, axis=2)\n",
    "vs_prof = vs_m1[vscan, vray]\n",
    "volsr1 = vs_prof"
   ]
  },
  {
   "cell_type": "code",
   "execution_count": 106,
   "metadata": {
    "collapsed": false
   },
   "outputs": [
    {
     "data": {
      "text/plain": [
       "<mpl_toolkits.mplot3d.art3d.Path3DCollection at 0x486c5d61d0>"
      ]
     },
     "execution_count": 106,
     "metadata": {},
     "output_type": "execute_result"
    },
    {
     "data": {
      "image/png": "[encoded data removed]",
      "text/plain": [
       "<matplotlib.figure.Figure at 0x486c79ba90>"
      ]
     },
     "metadata": {},
     "output_type": "display_data"
    }
   ],
   "source": [
    "from mpl_toolkits.mplot3d import Axes3D\n",
    "fig = pl.figure()\n",
    "ax = fig.add_subplot(111, projection='3d')\n",
    "ax.scatter(xyz_m1[..., 0], xyz_m1[..., 1], xyz_m1[..., 2], c=c.ravel())"
   ]
  },
  {
   "cell_type": "code",
   "execution_count": 107,
   "metadata": {
    "collapsed": true
   },
   "outputs": [],
   "source": [
    "# ratio of accepted bins and total bins SR\n",
    "ratio_sr_good_tot = ngoodsr/ntotsr.astype(float)"
   ]
  },
  {
   "cell_type": "markdown",
   "metadata": {},
   "source": [
    "#### Calculate spherical coordinates of SR sample volume with respect to GR"
   ]
  },
  {
   "cell_type": "code",
   "execution_count": 108,
   "metadata": {
    "collapsed": true
   },
   "outputs": [],
   "source": [
    "r_sr, az_sr, el_rs = wrl.georef.xyz_to_spherical(xyz, alt0_gr, proj=rad)"
   ]
  },
  {
   "cell_type": "markdown",
   "metadata": {},
   "source": [
    "#### Average SR reflectivity"
   ]
  },
  {
   "cell_type": "code",
   "execution_count": 109,
   "metadata": {
    "collapsed": true
   },
   "outputs": [],
   "source": [
    "# uncorrected\n",
    "ref_sr_1 = wrl.trafo.idecibel(ref_sr)\n",
    "ref_sr_1[~above_18] = np.nan\n",
    "refsr1a = np.nanmean(ref_sr_1, axis=2)[vscan,vray]\n",
    "refsr1a = wrl.trafo.decibel(refsr1a)\n",
    "\n",
    "# snow\n",
    "ref_sr_2 = wrl.trafo.idecibel(ref_sr_ss)\n",
    "ref_sr_2[~above_18] = np.nan\n",
    "refsr2a = np.nanmean(ref_sr_2, axis=2)[vscan,vray]\n",
    "refsr2a = wrl.trafo.decibel(refsr2a)\n",
    "\n",
    "# hail\n",
    "ref_sr_3 = wrl.trafo.idecibel(ref_sr_sh)\n",
    "ref_sr_3[~above_18] = np.nan\n",
    "refsr3a = np.nanmean(ref_sr_3, axis=2)[vscan,vray]\n",
    "refsr3a = wrl.trafo.decibel(refsr3a)"
   ]
  },
  {
   "cell_type": "code",
   "execution_count": 110,
   "metadata": {
    "collapsed": true
   },
   "outputs": [],
   "source": [
    "# get the precipitation type based on SR\n",
    "type_sr = sr_data['ptype'][vscan,vray]"
   ]
  },
  {
   "cell_type": "code",
   "execution_count": 111,
   "metadata": {
    "collapsed": true
   },
   "outputs": [],
   "source": [
    "# get the bright band membership based on PR\n",
    "ratio_c1 = ratio.copy()\n",
    "ratio_c1[~valid] = np.nan\n",
    "bb_ratio = np.nanmean(ratio_c1,axis=2)\n",
    "bb_sr = bb_ratio[vscan, vray]"
   ]
  },
  {
   "cell_type": "markdown",
   "metadata": {},
   "source": [
    "### Identify which GR bins actually intersect with the SR footprint\n",
    "#### Create Zonal Data Source of matching SR profiles"
   ]
  },
  {
   "cell_type": "code",
   "execution_count": 112,
   "metadata": {
    "collapsed": true
   },
   "outputs": [],
   "source": [
    "zds = wrl.zonalstats.DataSource(xyz[:, 0:2].reshape(-1, 2), rad)"
   ]
  },
  {
   "cell_type": "markdown",
   "metadata": {},
   "source": [
    "#### Create SR beam polygons using $R_s$"
   ]
  },
  {
   "cell_type": "code",
   "execution_count": 113,
   "metadata": {
    "collapsed": true
   },
   "outputs": [],
   "source": [
    "tmp_trg_lyr = zds.ds.GetLayer()\n",
    "trg_poly = []\n",
    "for i, feat in enumerate(tmp_trg_lyr):\n",
    "    geom = feat.GetGeometryRef().Buffer(rs_prof[i])\n",
    "    poly = wrl.georef.ogr_to_numpy(geom)\n",
    "    trg_poly.append(poly)"
   ]
  },
  {
   "cell_type": "markdown",
   "metadata": {},
   "source": [
    "#### Create ZonalDataPoly for GR and SR profiles  "
   ]
  },
  {
   "cell_type": "code",
   "execution_count": 114,
   "metadata": {
    "collapsed": false
   },
   "outputs": [
    {
     "name": "stdout",
     "output_type": "stream",
     "text": [
      "Wall time: 2min 35s\n"
     ]
    }
   ],
   "source": [
    "%%time\n",
    "zdp = wrl.zonalstats.ZonalDataPoly(gr_poly[..., 0:2].reshape(-1, 5, 2), trg_poly, srs=rad)\n",
    "zdp.dump_vector('m3d_zonal_poly_{0}_{1}'.format(platf,YEAR))\n",
    "obj3 = wrl.zonalstats.GridCellsToPoly('m3d_zonal_poly_{0}_{1}'.format(platf,YEAR))"
   ]
  },
  {
   "cell_type": "markdown",
   "metadata": {},
   "source": [
    "#### Average GR volume and reflectivity"
   ]
  },
  {
   "cell_type": "code",
   "execution_count": 115,
   "metadata": {
    "collapsed": true
   },
   "outputs": [],
   "source": [
    "# set GR bins below 0 dBZ to 0 dBZ (according to Morris and Schwaller 2011)\n",
    "ref_gr[ref_gr < 0] = 0\n",
    "ref_gr_ku[ref_gr_ku < 0] = 0\n",
    "\n",
    "volgr1 = np.array([np.sum(vol_gr.ravel()[obj3.ix[i]])\n",
    "                   for i in np.arange(len(obj3.ix))[~obj3.check_empty()]])\n",
    "\n",
    "ref_gr_i = wrl.trafo.idecibel(ref_gr.ravel())\n",
    "ref_gr_ku_i = wrl.trafo.idecibel(ref_gr_ku.ravel())\n",
    "refgr1a = np.array([np.nanmean(ref_gr_i[obj3.ix[i]])\n",
    "             for i in np.arange(len(obj3.ix))[~obj3.check_empty()]])\n",
    "refgr1a = wrl.trafo.decibel(refgr1a)\n",
    "refgr2a = np.array([np.nanmean(ref_gr_ku_i[obj3.ix[i]])\n",
    "             for i in np.arange(len(obj3.ix))[~obj3.check_empty()]])\n",
    "refgr2a = wrl.trafo.decibel(refgr2a)"
   ]
  },
  {
   "cell_type": "code",
   "execution_count": 116,
   "metadata": {
    "collapsed": true
   },
   "outputs": [],
   "source": [
    "# ratio of accepted bins and total bins GR\n",
    "gr_ref = np.array([ref_gr.ravel()[obj3.ix[i]]\n",
    "                   for i in np.arange(len(obj3.ix))[~obj3.check_empty()]])\n",
    "# ntotalgr = np.array([len(item) for item in gr_ref]) # count includes NaNs\n",
    "ntotalgr = np.array([np.count_nonzero(~np.isnan(item)) for item in gr_ref]) # count excludes NaNs\n",
    "ngoodgr = np.array([len(item[item>=15]) for item in gr_ref])\n",
    "ratio_gr_good_tot = ngoodgr/ntotalgr.astype(float)"
   ]
  },
  {
   "cell_type": "markdown",
   "metadata": {},
   "source": [
    "#### Calculate quality values for each matched volume"
   ]
  },
  {
   "cell_type": "code",
   "execution_count": 117,
   "metadata": {
    "collapsed": false
   },
   "outputs": [],
   "source": [
    "# BBF\n",
    "qualgr_BBF = np.array([np.nanmin(qual_BBF.ravel()[obj3.ix[i]])\n",
    "             for i in np.arange(len(obj3.ix))[~obj3.check_empty()]])"
   ]
  },
  {
   "cell_type": "markdown",
   "metadata": {},
   "source": [
    "# STORE OUTPUT IN PANDAS DATAFRAME"
   ]
  },
  {
   "cell_type": "code",
   "execution_count": 118,
   "metadata": {
    "collapsed": false
   },
   "outputs": [],
   "source": [
    "emptydata = np.empty((len(refgr1a.ravel()), 20))\n",
    "emptydata[:] = np.nan\n",
    "\n",
    "df = pd.DataFrame(emptydata, columns=['sample_id','sr_date','gr_date','time_diff','ee', 'elev' ,\n",
    "                                      'sr_ref','sr_ref_ss','sr_ref_sh','gr_ref','gr_ref_ku',\n",
    "                                      'lat','lon','alt','quality_BBF','pflag', 'ptype',\n",
    "                                      'bb','ratio_sr','ratio_gr'])\n",
    "# convert sample_id column into string\n",
    "df.sample_id = df.sample_id.astype(str)\n",
    "\n",
    "for i in df.index:\n",
    "    df.set_value(i, 'sample_id', sampleid)\n",
    "    df.set_value(i, 'sr_date', sr_data['date'][0])\n",
    "    df.set_value(i, 'gr_date', gr_data['date'])\n",
    "    df.set_value(i, 'time_diff', abs(sr_data['date'][0] - gr_data['date']).seconds)\n",
    "    df.set_value(i, 'ee', ee)\n",
    "    df.set_value(i, 'elev', elev_gr)\n",
    "    df.set_value(i, 'sr_ref', refsr1a[i])   # uncorrected SR\n",
    "    df.set_value(i, 'sr_ref_ss', refsr2a[i])   # corrected SR (Ku-S) snow\n",
    "    df.set_value(i, 'sr_ref_sh', refsr3a[i])   # corrected SR (Ku-S) hail\n",
    "    df.set_value(i, 'gr_ref', refgr1a[i])   # uncorrected GR\n",
    "    df.set_value(i, 'gr_ref_ku', refgr2a[i])   # corrected GR (S-Ku)\n",
    "    df.set_value(i, 'lon', xyz[...,0][i])\n",
    "    df.set_value(i, 'lat', xyz[...,1][i])\n",
    "    df.set_value(i, 'alt', xyz[...,2][i])\n",
    "    df.set_value(i, 'quality_BBF', qualgr_BBF[i])\n",
    "    df.set_value(i, 'pflag', np.sum(precip_mask))\n",
    "    df.set_value(i, 'ptype', type_sr[i])\n",
    "    df.set_value(i, 'bb', bb_sr[i])\n",
    "    df.set_value(i, 'ratio_sr', ratio_sr_good_tot[i])\n",
    "    df.set_value(i, 'ratio_gr', ratio_gr_good_tot[i])\n",
    "\n",
    "\n"
   ]
  },
  {
   "cell_type": "code",
   "execution_count": 119,
   "metadata": {
    "collapsed": true
   },
   "outputs": [],
   "source": [
    "dbfilename = platf + '_' + radarname.lower() + '_' + \\\n",
    "                     dt.datetime.strftime(sr_data['date'][0], '%Y%m%d_%H%M%S') + '.hdf5'\n",
    "df.to_hdf(os.path.join('../output/matching', dbfilename), 'dataframe')"
   ]
  },
  {
   "cell_type": "code",
   "execution_count": 120,
   "metadata": {
    "collapsed": false
   },
   "outputs": [
    {
     "data": {
      "text/html": [
       "<div>\n",
       "<style scoped>\n",
       "    .dataframe tbody tr th:only-of-type {\n",
       "        vertical-align: middle;\n",
       "    }\n",
       "\n",
       "    .dataframe tbody tr th {\n",
       "        vertical-align: top;\n",
       "    }\n",
       "\n",
       "    .dataframe thead th {\n",
       "        text-align: right;\n",
       "    }\n",
       "</style>\n",
       "<table border=\"1\" class=\"dataframe\">\n",
       "  <thead>\n",
       "    <tr style=\"text-align: right;\">\n",
       "      <th></th>\n",
       "      <th>sample_id</th>\n",
       "      <th>sr_date</th>\n",
       "      <th>gr_date</th>\n",
       "      <th>time_diff</th>\n",
       "      <th>ee</th>\n",
       "      <th>elev</th>\n",
       "      <th>sr_ref</th>\n",
       "      <th>sr_ref_ss</th>\n",
       "      <th>sr_ref_sh</th>\n",
       "      <th>gr_ref</th>\n",
       "      <th>gr_ref_ku</th>\n",
       "      <th>lat</th>\n",
       "      <th>lon</th>\n",
       "      <th>alt</th>\n",
       "      <th>quality_BBF</th>\n",
       "      <th>pflag</th>\n",
       "      <th>ptype</th>\n",
       "      <th>bb</th>\n",
       "      <th>ratio_sr</th>\n",
       "      <th>ratio_gr</th>\n",
       "    </tr>\n",
       "  </thead>\n",
       "  <tbody>\n",
       "    <tr>\n",
       "      <th>1075</th>\n",
       "      <td>009041</td>\n",
       "      <td>2015-10-01 18:58:54.644000</td>\n",
       "      <td>2015-10-01 19:00:05</td>\n",
       "      <td>70.0</td>\n",
       "      <td>0.0</td>\n",
       "      <td>1.0</td>\n",
       "      <td>30.633671</td>\n",
       "      <td>30.151222</td>\n",
       "      <td>30.151222</td>\n",
       "      <td>NaN</td>\n",
       "      <td>NaN</td>\n",
       "      <td>-105057.006517</td>\n",
       "      <td>47549.627477</td>\n",
       "      <td>3319.441415</td>\n",
       "      <td>0.0</td>\n",
       "      <td>1080.0</td>\n",
       "      <td>1.0</td>\n",
       "      <td>-1.471718</td>\n",
       "      <td>1.0</td>\n",
       "      <td>NaN</td>\n",
       "    </tr>\n",
       "    <tr>\n",
       "      <th>1076</th>\n",
       "      <td>009041</td>\n",
       "      <td>2015-10-01 18:58:54.644000</td>\n",
       "      <td>2015-10-01 19:00:05</td>\n",
       "      <td>70.0</td>\n",
       "      <td>0.0</td>\n",
       "      <td>1.0</td>\n",
       "      <td>26.961781</td>\n",
       "      <td>26.656673</td>\n",
       "      <td>26.656673</td>\n",
       "      <td>NaN</td>\n",
       "      <td>NaN</td>\n",
       "      <td>-107393.251191</td>\n",
       "      <td>42800.556450</td>\n",
       "      <td>3367.517412</td>\n",
       "      <td>0.0</td>\n",
       "      <td>1080.0</td>\n",
       "      <td>1.0</td>\n",
       "      <td>-1.402138</td>\n",
       "      <td>1.0</td>\n",
       "      <td>NaN</td>\n",
       "    </tr>\n",
       "    <tr>\n",
       "      <th>1077</th>\n",
       "      <td>009041</td>\n",
       "      <td>2015-10-01 18:58:54.644000</td>\n",
       "      <td>2015-10-01 19:00:05</td>\n",
       "      <td>70.0</td>\n",
       "      <td>0.0</td>\n",
       "      <td>1.0</td>\n",
       "      <td>28.944769</td>\n",
       "      <td>28.544785</td>\n",
       "      <td>28.544785</td>\n",
       "      <td>NaN</td>\n",
       "      <td>NaN</td>\n",
       "      <td>-109741.438624</td>\n",
       "      <td>38016.041039</td>\n",
       "      <td>3354.695439</td>\n",
       "      <td>0.0</td>\n",
       "      <td>1080.0</td>\n",
       "      <td>1.0</td>\n",
       "      <td>-1.420695</td>\n",
       "      <td>1.0</td>\n",
       "      <td>NaN</td>\n",
       "    </tr>\n",
       "    <tr>\n",
       "      <th>1078</th>\n",
       "      <td>009041</td>\n",
       "      <td>2015-10-01 18:58:54.644000</td>\n",
       "      <td>2015-10-01 19:00:05</td>\n",
       "      <td>70.0</td>\n",
       "      <td>0.0</td>\n",
       "      <td>1.0</td>\n",
       "      <td>25.993080</td>\n",
       "      <td>25.735088</td>\n",
       "      <td>25.735088</td>\n",
       "      <td>NaN</td>\n",
       "      <td>NaN</td>\n",
       "      <td>-112133.932111</td>\n",
       "      <td>33127.153479</td>\n",
       "      <td>3341.103047</td>\n",
       "      <td>0.0</td>\n",
       "      <td>1080.0</td>\n",
       "      <td>1.0</td>\n",
       "      <td>-1.440367</td>\n",
       "      <td>1.0</td>\n",
       "      <td>NaN</td>\n",
       "    </tr>\n",
       "    <tr>\n",
       "      <th>1079</th>\n",
       "      <td>009041</td>\n",
       "      <td>2015-10-01 18:58:54.644000</td>\n",
       "      <td>2015-10-01 19:00:05</td>\n",
       "      <td>70.0</td>\n",
       "      <td>0.0</td>\n",
       "      <td>1.0</td>\n",
       "      <td>24.166798</td>\n",
       "      <td>23.992565</td>\n",
       "      <td>23.990419</td>\n",
       "      <td>NaN</td>\n",
       "      <td>NaN</td>\n",
       "      <td>-114509.446230</td>\n",
       "      <td>28262.573447</td>\n",
       "      <td>3445.823118</td>\n",
       "      <td>0.0</td>\n",
       "      <td>1080.0</td>\n",
       "      <td>1.0</td>\n",
       "      <td>-1.288806</td>\n",
       "      <td>1.0</td>\n",
       "      <td>NaN</td>\n",
       "    </tr>\n",
       "  </tbody>\n",
       "</table>\n",
       "</div>"
      ],
      "text/plain": [
       "     sample_id                     sr_date              gr_date  time_diff  \\\n",
       "1075    009041  2015-10-01 18:58:54.644000  2015-10-01 19:00:05       70.0   \n",
       "1076    009041  2015-10-01 18:58:54.644000  2015-10-01 19:00:05       70.0   \n",
       "1077    009041  2015-10-01 18:58:54.644000  2015-10-01 19:00:05       70.0   \n",
       "1078    009041  2015-10-01 18:58:54.644000  2015-10-01 19:00:05       70.0   \n",
       "1079    009041  2015-10-01 18:58:54.644000  2015-10-01 19:00:05       70.0   \n",
       "\n",
       "       ee  elev     sr_ref  sr_ref_ss  sr_ref_sh  gr_ref  gr_ref_ku  \\\n",
       "1075  0.0   1.0  30.633671  30.151222  30.151222     NaN        NaN   \n",
       "1076  0.0   1.0  26.961781  26.656673  26.656673     NaN        NaN   \n",
       "1077  0.0   1.0  28.944769  28.544785  28.544785     NaN        NaN   \n",
       "1078  0.0   1.0  25.993080  25.735088  25.735088     NaN        NaN   \n",
       "1079  0.0   1.0  24.166798  23.992565  23.990419     NaN        NaN   \n",
       "\n",
       "                lat           lon          alt  quality_BBF   pflag  ptype  \\\n",
       "1075 -105057.006517  47549.627477  3319.441415          0.0  1080.0    1.0   \n",
       "1076 -107393.251191  42800.556450  3367.517412          0.0  1080.0    1.0   \n",
       "1077 -109741.438624  38016.041039  3354.695439          0.0  1080.0    1.0   \n",
       "1078 -112133.932111  33127.153479  3341.103047          0.0  1080.0    1.0   \n",
       "1079 -114509.446230  28262.573447  3445.823118          0.0  1080.0    1.0   \n",
       "\n",
       "            bb  ratio_sr  ratio_gr  \n",
       "1075 -1.471718       1.0       NaN  \n",
       "1076 -1.402138       1.0       NaN  \n",
       "1077 -1.420695       1.0       NaN  \n",
       "1078 -1.440367       1.0       NaN  \n",
       "1079 -1.288806       1.0       NaN  "
      ]
     },
     "execution_count": 120,
     "metadata": {},
     "output_type": "execute_result"
    }
   ],
   "source": [
    "df.tail()"
   ]
  }
 ],
 "metadata": {
  "anaconda-cloud": {},
  "kernelspec": {
   "display_name": "Python [conda env:wradlib36_2]",
   "language": "python",
   "name": "conda-env-wradlib36_2-py"
  },
  "language_info": {
   "codemirror_mode": {
    "name": "ipython",
    "version": 3
   },
   "file_extension": ".py",
   "mimetype": "text/x-python",
   "name": "python",
   "nbconvert_exporter": "python",
   "pygments_lexer": "ipython3",
   "version": "3.6.4"
  },
  "toc": {
   "nav_menu": {},
   "number_sections": true,
   "sideBar": true,
   "skip_h1_title": false,
   "toc_cell": false,
   "toc_position": {},
   "toc_section_display": "block",
   "toc_window_display": false
  }
 },
 "nbformat": 4,
 "nbformat_minor": 1
}
